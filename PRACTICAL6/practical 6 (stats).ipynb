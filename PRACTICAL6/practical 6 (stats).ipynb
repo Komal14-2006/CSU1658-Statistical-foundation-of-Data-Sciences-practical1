{
 "cells": [
  {
   "cell_type": "code",
   "execution_count": 2,
   "id": "1b4d2e48-015f-4604-86ae-fa6b3157134a",
   "metadata": {},
   "outputs": [
    {
     "data": {
      "text/html": [
       "<div>\n",
       "<style scoped>\n",
       "    .dataframe tbody tr th:only-of-type {\n",
       "        vertical-align: middle;\n",
       "    }\n",
       "\n",
       "    .dataframe tbody tr th {\n",
       "        vertical-align: top;\n",
       "    }\n",
       "\n",
       "    .dataframe thead th {\n",
       "        text-align: right;\n",
       "    }\n",
       "</style>\n",
       "<table border=\"1\" class=\"dataframe\">\n",
       "  <thead>\n",
       "    <tr style=\"text-align: right;\">\n",
       "      <th></th>\n",
       "      <th>gender</th>\n",
       "      <th>eval</th>\n",
       "    </tr>\n",
       "  </thead>\n",
       "  <tbody>\n",
       "    <tr>\n",
       "      <th>0</th>\n",
       "      <td>Male</td>\n",
       "      <td>4.369233</td>\n",
       "    </tr>\n",
       "    <tr>\n",
       "      <th>1</th>\n",
       "      <td>Female</td>\n",
       "      <td>4.085684</td>\n",
       "    </tr>\n",
       "    <tr>\n",
       "      <th>2</th>\n",
       "      <td>Male</td>\n",
       "      <td>3.942176</td>\n",
       "    </tr>\n",
       "    <tr>\n",
       "      <th>3</th>\n",
       "      <td>Male</td>\n",
       "      <td>3.849448</td>\n",
       "    </tr>\n",
       "    <tr>\n",
       "      <th>4</th>\n",
       "      <td>Male</td>\n",
       "      <td>3.260739</td>\n",
       "    </tr>\n",
       "  </tbody>\n",
       "</table>\n",
       "</div>"
      ],
      "text/plain": [
       "   gender      eval\n",
       "0    Male  4.369233\n",
       "1  Female  4.085684\n",
       "2    Male  3.942176\n",
       "3    Male  3.849448\n",
       "4    Male  3.260739"
      ]
     },
     "execution_count": 2,
     "metadata": {},
     "output_type": "execute_result"
    }
   ],
   "source": [
    "# 1.T-test: using the teacher's rating data set, does gender affect teaching evaluation rates ?\n",
    "import pandas as pd\n",
    "import numpy as np\n",
    "from scipy import stats\n",
    "import seaborn as sns\n",
    "import matplotlib.pyplot as plt\n",
    "# Create sample teacher rating dataset\n",
    "np.random.seed(42)\n",
    "data = pd.DataFrame({\n",
    "    'gender': np.random.choice(['Male', 'Female'], 100),\n",
    "    'eval': np.random.normal(4.0, 0.5, 100)  \n",
    "})\n",
    "\n",
    "data.head()"
   ]
  },
  {
   "cell_type": "code",
   "execution_count": 3,
   "id": "6f61fca4-1e1c-48b7-b97a-02eabef682e9",
   "metadata": {},
   "outputs": [
    {
     "name": "stdout",
     "output_type": "stream",
     "text": [
      "Female    56\n",
      "Male      44\n",
      "Name: gender, dtype: int64\n",
      "             eval\n",
      "count  100.000000\n",
      "mean     3.984907\n",
      "std      0.469336\n",
      "min      2.690127\n",
      "25%      3.706998\n",
      "50%      3.982366\n",
      "75%      4.265832\n",
      "max      5.231621\n"
     ]
    }
   ],
   "source": [
    "print(data['gender'].value_counts())\n",
    "print(data.describe())"
   ]
  },
  {
   "cell_type": "code",
   "execution_count": 4,
   "id": "2fdbe77b-8843-4a86-9e51-8702ce9c0386",
   "metadata": {},
   "outputs": [
    {
     "data": {
      "image/png": "[encoded data removed]",
      "text/plain": [
       "<Figure size 600x400 with 1 Axes>"
      ]
     },
     "metadata": {},
     "output_type": "display_data"
    }
   ],
   "source": [
    "plt.figure(figsize=(6,4))\n",
    "sns.boxplot(x='gender', y='eval', data=data, palette='coolwarm')\n",
    "plt.title(\"Teaching Evaluation Score by Gender\")\n",
    "plt.xlabel(\"Gender\")\n",
    "plt.ylabel(\"Evaluation Score\")\n",
    "plt.show()"
   ]
  },
  {
   "cell_type": "code",
   "execution_count": 5,
   "id": "f086f23d-12b2-4df0-ae05-54a55ed10f46",
   "metadata": {},
   "outputs": [
    {
     "name": "stdout",
     "output_type": "stream",
     "text": [
      "T-Test Results:\n",
      "T-statistic: 0.847\n",
      "P-value: 0.3993\n"
     ]
    }
   ],
   "source": [
    "# Split data into two groups\n",
    "male_eval = data[data['gender'] == 'Male']['eval']\n",
    "female_eval = data[data['gender'] == 'Female']['eval']\n",
    "# Run independent t-test\n",
    "t_stat, p_value = stats.ttest_ind(male_eval, female_eval)\n",
    "print(\"T-Test Results:\")\n",
    "print(f\"T-statistic: {t_stat:.3f}\")\n",
    "print(f\"P-value: {p_value:.4f}\")"
   ]
  },
  {
   "cell_type": "code",
   "execution_count": 6,
   "id": "daee91cb-ccf7-4e63-a07e-dc955e70f572",
   "metadata": {},
   "outputs": [
    {
     "name": "stdout",
     "output_type": "stream",
     "text": [
      "There is no significant difference in teaching evaluation rates by gender.\n"
     ]
    }
   ],
   "source": [
    "alpha = 0.05  # significance level\n",
    "if p_value < alpha:\n",
    "    print(\"Gender significantly affects teaching evaluation rates.\")\n",
    "else:\n",
    "    print(\"There is no significant difference in teaching evaluation rates by gender.\")"
   ]
  },
  {
   "cell_type": "markdown",
   "id": "687488ec-5dca-4324-8b51-bcf8daff38d8",
   "metadata": {},
   "source": [
    "Conclusion:\n",
    "The T-test compares the mean evaluation scores between male and female instructors.\n",
    "If p-value < 0.05, we reject the null hypothesis, meaning gender does significantly affect teaching ratings.\n",
    "If p-value > 0.05, we fail to reject it — meaning gender does not have a statistically significant impact."
   ]
  },
  {
   "cell_type": "code",
   "execution_count": 7,
   "id": "fbf78915-fa34-417e-84c2-4b18ac3f2df9",
   "metadata": {},
   "outputs": [
    {
     "data": {
      "text/html": [
       "<div>\n",
       "<style scoped>\n",
       "    .dataframe tbody tr th:only-of-type {\n",
       "        vertical-align: middle;\n",
       "    }\n",
       "\n",
       "    .dataframe tbody tr th {\n",
       "        vertical-align: top;\n",
       "    }\n",
       "\n",
       "    .dataframe thead th {\n",
       "        text-align: right;\n",
       "    }\n",
       "</style>\n",
       "<table border=\"1\" class=\"dataframe\">\n",
       "  <thead>\n",
       "    <tr style=\"text-align: right;\">\n",
       "      <th></th>\n",
       "      <th>age</th>\n",
       "      <th>beauty</th>\n",
       "    </tr>\n",
       "  </thead>\n",
       "  <tbody>\n",
       "    <tr>\n",
       "      <th>0</th>\n",
       "      <td>63</td>\n",
       "      <td>3.357814</td>\n",
       "    </tr>\n",
       "    <tr>\n",
       "      <th>1</th>\n",
       "      <td>53</td>\n",
       "      <td>3.171693</td>\n",
       "    </tr>\n",
       "    <tr>\n",
       "      <th>2</th>\n",
       "      <td>39</td>\n",
       "      <td>4.443773</td>\n",
       "    </tr>\n",
       "    <tr>\n",
       "      <th>3</th>\n",
       "      <td>32</td>\n",
       "      <td>2.781434</td>\n",
       "    </tr>\n",
       "    <tr>\n",
       "      <th>4</th>\n",
       "      <td>45</td>\n",
       "      <td>4.167836</td>\n",
       "    </tr>\n",
       "  </tbody>\n",
       "</table>\n",
       "</div>"
      ],
      "text/plain": [
       "   age    beauty\n",
       "0   63  3.357814\n",
       "1   53  3.171693\n",
       "2   39  4.443773\n",
       "3   32  2.781434\n",
       "4   45  4.167836"
      ]
     },
     "execution_count": 7,
     "metadata": {},
     "output_type": "execute_result"
    }
   ],
   "source": [
    "# 2. ANOVA: Using the teachers' rating data set, does beauty score for instructors differ by age?\n",
    "import pandas as pd\n",
    "import numpy as np\n",
    "from scipy import stats\n",
    "import seaborn as sns\n",
    "import matplotlib.pyplot as plt\n",
    "# Create sample data\n",
    "np.random.seed(42)\n",
    "data = pd.DataFrame({\n",
    "    'age': np.random.randint(25, 65, 100),           # Instructor age\n",
    "    'beauty': np.random.normal(3.5, 0.8, 100)        # Beauty score (1–5 scale)\n",
    "})\n",
    "data.head()"
   ]
  },
  {
   "cell_type": "code",
   "execution_count": 8,
   "id": "9b024f2e-5f44-4aea-9d77-143a4bf5fb02",
   "metadata": {},
   "outputs": [
    {
     "data": {
      "text/html": [
       "<div>\n",
       "<style scoped>\n",
       "    .dataframe tbody tr th:only-of-type {\n",
       "        vertical-align: middle;\n",
       "    }\n",
       "\n",
       "    .dataframe tbody tr th {\n",
       "        vertical-align: top;\n",
       "    }\n",
       "\n",
       "    .dataframe thead th {\n",
       "        text-align: right;\n",
       "    }\n",
       "</style>\n",
       "<table border=\"1\" class=\"dataframe\">\n",
       "  <thead>\n",
       "    <tr style=\"text-align: right;\">\n",
       "      <th></th>\n",
       "      <th>age</th>\n",
       "      <th>beauty</th>\n",
       "      <th>age_group</th>\n",
       "    </tr>\n",
       "  </thead>\n",
       "  <tbody>\n",
       "    <tr>\n",
       "      <th>0</th>\n",
       "      <td>63</td>\n",
       "      <td>3.357814</td>\n",
       "      <td>60–70</td>\n",
       "    </tr>\n",
       "    <tr>\n",
       "      <th>1</th>\n",
       "      <td>53</td>\n",
       "      <td>3.171693</td>\n",
       "      <td>50–60</td>\n",
       "    </tr>\n",
       "    <tr>\n",
       "      <th>2</th>\n",
       "      <td>39</td>\n",
       "      <td>4.443773</td>\n",
       "      <td>30–40</td>\n",
       "    </tr>\n",
       "    <tr>\n",
       "      <th>3</th>\n",
       "      <td>32</td>\n",
       "      <td>2.781434</td>\n",
       "      <td>30–40</td>\n",
       "    </tr>\n",
       "    <tr>\n",
       "      <th>4</th>\n",
       "      <td>45</td>\n",
       "      <td>4.167836</td>\n",
       "      <td>40–50</td>\n",
       "    </tr>\n",
       "  </tbody>\n",
       "</table>\n",
       "</div>"
      ],
      "text/plain": [
       "   age    beauty age_group\n",
       "0   63  3.357814     60–70\n",
       "1   53  3.171693     50–60\n",
       "2   39  4.443773     30–40\n",
       "3   32  2.781434     30–40\n",
       "4   45  4.167836     40–50"
      ]
     },
     "execution_count": 8,
     "metadata": {},
     "output_type": "execute_result"
    }
   ],
   "source": [
    "# Create categorical age groups\n",
    "data['age_group'] = pd.cut(data['age'],\n",
    "                           bins=[20, 30, 40, 50, 60, 70],\n",
    "                           labels=['20–30', '30–40', '40–50', '50–60', '60–70'])\n",
    "\n",
    "data.head()"
   ]
  },
  {
   "cell_type": "code",
   "execution_count": 9,
   "id": "2b5194e2-ba6e-41c1-8935-7fe603a802eb",
   "metadata": {},
   "outputs": [
    {
     "data": {
      "image/png": "[encoded data removed]",
      "text/plain": [
       "<Figure size 800x500 with 1 Axes>"
      ]
     },
     "metadata": {},
     "output_type": "display_data"
    }
   ],
   "source": [
    "plt.figure(figsize=(8,5))\n",
    "sns.boxplot(x='age_group', y='beauty', data=data, palette='viridis')\n",
    "sns.pointplot(x='age_group', y='beauty', data=data, color='red', errorbar=None)\n",
    "plt.title(\"Beauty Scores Across Age Groups\")\n",
    "plt.xlabel(\"Age Group\")\n",
    "plt.ylabel(\"Beauty Score\")\n",
    "plt.show()"
   ]
  },
  {
   "cell_type": "code",
   "execution_count": 11,
   "id": "4d78e199-75c6-4812-8ef3-3102d24d0714",
   "metadata": {},
   "outputs": [
    {
     "name": "stdout",
     "output_type": "stream",
     "text": [
      "ANOVA Results:\n",
      "F-statistic: 0.769\n",
      "P-value: 0.5482\n"
     ]
    }
   ],
   "source": [
    "# Group beauty scores by age group\n",
    "groups = [group['beauty'].values for _, group in data.groupby('age_group')]\n",
    "\n",
    "# Perform one-way ANOVA\n",
    "f_stat, p_value = stats.f_oneway(*groups)\n",
    "\n",
    "print(\"ANOVA Results:\")\n",
    "print(f\"F-statistic: {f_stat:.3f}\")\n",
    "print(f\"P-value: {p_value:.4f}\")"
   ]
  },
  {
   "cell_type": "code",
   "execution_count": 12,
   "id": "3ab857eb-bb49-4880-a6e4-c74ff49418ff",
   "metadata": {},
   "outputs": [
    {
     "name": "stdout",
     "output_type": "stream",
     "text": [
      "No significant difference in beauty scores across age groups.\n"
     ]
    }
   ],
   "source": [
    "alpha = 0.05\n",
    "if p_value < alpha:\n",
    "    print(\"Beauty scores significantly differ among age groups.\")\n",
    "else:\n",
    "    print(\"No significant difference in beauty scores across age groups.\")"
   ]
  },
  {
   "cell_type": "markdown",
   "id": "1ef4c593-eda5-452c-ae0a-8a6bf61592c4",
   "metadata": {},
   "source": [
    "Interpretation:\n",
    "Null hypothesis (H₀): Beauty scores are equal across all age groups.\n",
    "Alternative hypothesis (H₁): At least one age group’s mean beauty score differs.\n",
    "If p < 0.05, reject H₀ → age affects beauty scores.\n",
    "If p ≥ 0.05, fail to reject H₀ → no significant age-based difference."
   ]
  },
  {
   "cell_type": "code",
   "execution_count": 13,
   "id": "aa8c6523-fad3-4963-a5cb-52ef5177bb59",
   "metadata": {},
   "outputs": [
    {
     "data": {
      "text/html": [
       "<div>\n",
       "<style scoped>\n",
       "    .dataframe tbody tr th:only-of-type {\n",
       "        vertical-align: middle;\n",
       "    }\n",
       "\n",
       "    .dataframe tbody tr th {\n",
       "        vertical-align: top;\n",
       "    }\n",
       "\n",
       "    .dataframe thead th {\n",
       "        text-align: right;\n",
       "    }\n",
       "</style>\n",
       "<table border=\"1\" class=\"dataframe\">\n",
       "  <thead>\n",
       "    <tr style=\"text-align: right;\">\n",
       "      <th></th>\n",
       "      <th>gender</th>\n",
       "      <th>tenure</th>\n",
       "    </tr>\n",
       "  </thead>\n",
       "  <tbody>\n",
       "    <tr>\n",
       "      <th>0</th>\n",
       "      <td>Male</td>\n",
       "      <td>Yes</td>\n",
       "    </tr>\n",
       "    <tr>\n",
       "      <th>1</th>\n",
       "      <td>Female</td>\n",
       "      <td>No</td>\n",
       "    </tr>\n",
       "    <tr>\n",
       "      <th>2</th>\n",
       "      <td>Male</td>\n",
       "      <td>No</td>\n",
       "    </tr>\n",
       "    <tr>\n",
       "      <th>3</th>\n",
       "      <td>Male</td>\n",
       "      <td>No</td>\n",
       "    </tr>\n",
       "    <tr>\n",
       "      <th>4</th>\n",
       "      <td>Male</td>\n",
       "      <td>No</td>\n",
       "    </tr>\n",
       "  </tbody>\n",
       "</table>\n",
       "</div>"
      ],
      "text/plain": [
       "   gender tenure\n",
       "0    Male    Yes\n",
       "1  Female     No\n",
       "2    Male     No\n",
       "3    Male     No\n",
       "4    Male     No"
      ]
     },
     "execution_count": 13,
     "metadata": {},
     "output_type": "execute_result"
    }
   ],
   "source": [
    "# 3. Chi-square: Using the teachers' rating data set, is there an association between tenure and gender?\n",
    "import pandas as pd\n",
    "import numpy as np\n",
    "from scipy.stats import chi2_contingency\n",
    "import seaborn as sns\n",
    "import matplotlib.pyplot as plt\n",
    "# Create sample data\n",
    "np.random.seed(42)\n",
    "data = pd.DataFrame({\n",
    "    'gender': np.random.choice(['Male', 'Female'], 100),\n",
    "    'tenure': np.random.choice(['Yes', 'No'], 100)\n",
    "})\n",
    "data.head()"
   ]
  },
  {
   "cell_type": "code",
   "execution_count": 14,
   "id": "3630e0cd-a5ef-4c5c-beb9-3e25b86b5bdc",
   "metadata": {},
   "outputs": [
    {
     "name": "stdout",
     "output_type": "stream",
     "text": [
      "Contingency Table:\n",
      "gender  Female  Male\n",
      "tenure              \n",
      "No          25    19\n",
      "Yes         31    25\n"
     ]
    }
   ],
   "source": [
    "# Contingency table (cross-tabulation)\n",
    "contingency = pd.crosstab(data['tenure'], data['gender'])\n",
    "print(\"Contingency Table:\")\n",
    "print(contingency)"
   ]
  },
  {
   "cell_type": "code",
   "execution_count": 16,
   "id": "b7333a01-aa5a-4d1b-8350-47e5de14da2a",
   "metadata": {},
   "outputs": [
    {
     "name": "stdout",
     "output_type": "stream",
     "text": [
      "\n",
      "Chi-Square Test Results:\n",
      "Chi-square statistic: 0.000\n",
      "Degrees of freedom: 1\n",
      "P-value: 1.0000\n"
     ]
    }
   ],
   "source": [
    "# Perform Chi-square test\n",
    "chi2, p_value, dof, expected = chi2_contingency(contingency)\n",
    "print(\"\\nChi-Square Test Results:\")\n",
    "print(f\"Chi-square statistic: {chi2:.3f}\")\n",
    "print(f\"Degrees of freedom: {dof}\")\n",
    "print(f\"P-value: {p_value:.4f}\")"
   ]
  },
  {
   "cell_type": "code",
   "execution_count": 17,
   "id": "11b4681a-ed27-4825-b00d-e1f703189a2e",
   "metadata": {},
   "outputs": [
    {
     "name": "stdout",
     "output_type": "stream",
     "text": [
      "There is no significant association between tenure and gender.\n"
     ]
    }
   ],
   "source": [
    "alpha = 0.05\n",
    "if p_value < alpha:\n",
    "    print(\"There is a significant association between tenure and gender.\")\n",
    "else:\n",
    "    print(\"There is no significant association between tenure and gender.\")"
   ]
  },
  {
   "cell_type": "code",
   "execution_count": 18,
   "id": "15ca7a25-1234-4a1c-9f22-fc4d59cd26c5",
   "metadata": {},
   "outputs": [
    {
     "data": {
      "image/png": "[encoded data removed]",
      "text/plain": [
       "<Figure size 600x400 with 1 Axes>"
      ]
     },
     "metadata": {},
     "output_type": "display_data"
    }
   ],
   "source": [
    "plt.figure(figsize=(6,4))\n",
    "sns.countplot(x='tenure', hue='gender', data=data, palette='Set2')\n",
    "plt.title(\"Tenure Status by Gender\")\n",
    "plt.xlabel(\"Tenure\")\n",
    "plt.ylabel(\"Count of Instructors\")\n",
    "plt.show()"
   ]
  },
  {
   "cell_type": "markdown",
   "id": "a7326394-25c6-4cb9-ae4e-301a83cdceac",
   "metadata": {},
   "source": [
    "Interpretation:\n",
    "Each bar shows how many males and females fall under each tenure category.\n",
    "If the bars differ greatly, it suggests a possible association.\n",
    "The Chi-square test statistically confirms if that difference is significant."
   ]
  },
  {
   "cell_type": "code",
   "execution_count": 19,
   "id": "e2502455-5842-4fd4-8b56-000fdf1f64cb",
   "metadata": {},
   "outputs": [
    {
     "data": {
      "text/html": [
       "<div>\n",
       "<style scoped>\n",
       "    .dataframe tbody tr th:only-of-type {\n",
       "        vertical-align: middle;\n",
       "    }\n",
       "\n",
       "    .dataframe tbody tr th {\n",
       "        vertical-align: top;\n",
       "    }\n",
       "\n",
       "    .dataframe thead th {\n",
       "        text-align: right;\n",
       "    }\n",
       "</style>\n",
       "<table border=\"1\" class=\"dataframe\">\n",
       "  <thead>\n",
       "    <tr style=\"text-align: right;\">\n",
       "      <th></th>\n",
       "      <th>beauty</th>\n",
       "      <th>eval</th>\n",
       "    </tr>\n",
       "  </thead>\n",
       "  <tbody>\n",
       "    <tr>\n",
       "      <th>0</th>\n",
       "      <td>3.897371</td>\n",
       "      <td>3.292315</td>\n",
       "    </tr>\n",
       "    <tr>\n",
       "      <th>1</th>\n",
       "      <td>3.389389</td>\n",
       "      <td>3.789677</td>\n",
       "    </tr>\n",
       "    <tr>\n",
       "      <th>2</th>\n",
       "      <td>4.018151</td>\n",
       "      <td>3.828643</td>\n",
       "    </tr>\n",
       "    <tr>\n",
       "      <th>3</th>\n",
       "      <td>4.718424</td>\n",
       "      <td>3.598861</td>\n",
       "    </tr>\n",
       "    <tr>\n",
       "      <th>4</th>\n",
       "      <td>3.312677</td>\n",
       "      <td>3.919357</td>\n",
       "    </tr>\n",
       "  </tbody>\n",
       "</table>\n",
       "</div>"
      ],
      "text/plain": [
       "     beauty      eval\n",
       "0  3.897371  3.292315\n",
       "1  3.389389  3.789677\n",
       "2  4.018151  3.828643\n",
       "3  4.718424  3.598861\n",
       "4  3.312677  3.919357"
      ]
     },
     "execution_count": 19,
     "metadata": {},
     "output_type": "execute_result"
    }
   ],
   "source": [
    "# 4 .Correlation: Using the teachers rating dataset, Is teaching evaluation score correlated with beauty score?\n",
    "import pandas as pd\n",
    "import numpy as np\n",
    "from scipy import stats\n",
    "import seaborn as sns\n",
    "import matplotlib.pyplot as plt\n",
    "# Create a sample dataset\n",
    "np.random.seed(42)\n",
    "data = pd.DataFrame({\n",
    "    'beauty': np.random.normal(3.5, 0.8, 100),      # Beauty score (1–5 scale)\n",
    "    'eval': np.random.normal(4.0, 0.5, 100)         # Teaching evaluation score (1–5 scale)\n",
    "})\n",
    "\n",
    "data.head()"
   ]
  },
  {
   "cell_type": "code",
   "execution_count": 20,
   "id": "ac035261-c512-4ff7-902c-3564d2b6aed2",
   "metadata": {},
   "outputs": [
    {
     "data": {
      "image/png": "[encoded data removed]",
      "text/plain": [
       "<Figure size 600x400 with 1 Axes>"
      ]
     },
     "metadata": {},
     "output_type": "display_data"
    }
   ],
   "source": [
    "plt.figure(figsize=(6,4))\n",
    "sns.regplot(x='beauty', y='eval', data=data, scatter_kws={'color':'blue'}, line_kws={'color':'red'})\n",
    "plt.title(\"Beauty Score vs Teaching Evaluation\")\n",
    "plt.xlabel(\"Beauty Score\")\n",
    "plt.ylabel(\"Teaching Evaluation Score\")\n",
    "plt.show()"
   ]
  },
  {
   "cell_type": "code",
   "execution_count": 22,
   "id": "f608e971-3d74-4871-8d1a-f7c201dc9e72",
   "metadata": {},
   "outputs": [
    {
     "name": "stdout",
     "output_type": "stream",
     "text": [
      "Correlation Test Results:\n",
      "Correlation Coefficient (r): -0.136\n",
      "P-value: 0.1759\n"
     ]
    }
   ],
   "source": [
    "corr_coeff, p_value = stats.pearsonr(data['beauty'], data['eval'])\n",
    "\n",
    "print(\"Correlation Test Results:\")\n",
    "print(f\"Correlation Coefficient (r): {corr_coeff:.3f}\")\n",
    "print(f\"P-value: {p_value:.4f}\")"
   ]
  },
  {
   "cell_type": "code",
   "execution_count": 23,
   "id": "f075d37a-eba9-4901-9831-826344724245",
   "metadata": {},
   "outputs": [
    {
     "name": "stdout",
     "output_type": "stream",
     "text": [
      "There is no significant correlation between beauty and teaching evaluation.\n"
     ]
    }
   ],
   "source": [
    "alpha = 0.05\n",
    "if p_value < alpha:\n",
    "    print(\"There is a significant correlation between beauty and teaching evaluation.\")\n",
    "else:\n",
    "    print(\"There is no significant correlation between beauty and teaching evaluation.\")"
   ]
  }
 ],
 "metadata": {
  "kernelspec": {
   "display_name": "Python [conda env:anaconda3]",
   "language": "python",
   "name": "conda-env-anaconda3-py"
  },
  "language_info": {
   "codemirror_mode": {
    "name": "ipython",
    "version": 3
   },
   "file_extension": ".py",
   "mimetype": "text/x-python",
   "name": "python",
   "nbconvert_exporter": "python",
   "pygments_lexer": "ipython3",
   "version": "3.11.4"
  }
 },
 "nbformat": 4,
 "nbformat_minor": 5
}
