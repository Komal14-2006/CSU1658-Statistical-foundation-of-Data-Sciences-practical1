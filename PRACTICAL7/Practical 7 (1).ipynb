{
 "cells": [
  {
   "cell_type": "code",
   "execution_count": 4,
   "id": "7109e196-9b01-4aeb-94a5-307933662e87",
   "metadata": {},
   "outputs": [
    {
     "data": {
      "text/html": [
       "<div>\n",
       "<style scoped>\n",
       "    .dataframe tbody tr th:only-of-type {\n",
       "        vertical-align: middle;\n",
       "    }\n",
       "\n",
       "    .dataframe tbody tr th {\n",
       "        vertical-align: top;\n",
       "    }\n",
       "\n",
       "    .dataframe thead th {\n",
       "        text-align: right;\n",
       "    }\n",
       "</style>\n",
       "<table border=\"1\" class=\"dataframe\">\n",
       "  <thead>\n",
       "    <tr style=\"text-align: right;\">\n",
       "      <th></th>\n",
       "      <th>beauty</th>\n",
       "      <th>eval</th>\n",
       "      <th>gender</th>\n",
       "      <th>smoker</th>\n",
       "      <th>day</th>\n",
       "      <th>time</th>\n",
       "      <th>age</th>\n",
       "    </tr>\n",
       "  </thead>\n",
       "  <tbody>\n",
       "    <tr>\n",
       "      <th>0</th>\n",
       "      <td>16.99</td>\n",
       "      <td>1.01</td>\n",
       "      <td>Female</td>\n",
       "      <td>No</td>\n",
       "      <td>Sun</td>\n",
       "      <td>Dinner</td>\n",
       "      <td>2</td>\n",
       "    </tr>\n",
       "    <tr>\n",
       "      <th>1</th>\n",
       "      <td>10.34</td>\n",
       "      <td>1.66</td>\n",
       "      <td>Male</td>\n",
       "      <td>No</td>\n",
       "      <td>Sun</td>\n",
       "      <td>Dinner</td>\n",
       "      <td>3</td>\n",
       "    </tr>\n",
       "    <tr>\n",
       "      <th>2</th>\n",
       "      <td>21.01</td>\n",
       "      <td>3.50</td>\n",
       "      <td>Male</td>\n",
       "      <td>No</td>\n",
       "      <td>Sun</td>\n",
       "      <td>Dinner</td>\n",
       "      <td>3</td>\n",
       "    </tr>\n",
       "    <tr>\n",
       "      <th>3</th>\n",
       "      <td>23.68</td>\n",
       "      <td>3.31</td>\n",
       "      <td>Male</td>\n",
       "      <td>No</td>\n",
       "      <td>Sun</td>\n",
       "      <td>Dinner</td>\n",
       "      <td>2</td>\n",
       "    </tr>\n",
       "    <tr>\n",
       "      <th>4</th>\n",
       "      <td>24.59</td>\n",
       "      <td>3.61</td>\n",
       "      <td>Female</td>\n",
       "      <td>No</td>\n",
       "      <td>Sun</td>\n",
       "      <td>Dinner</td>\n",
       "      <td>4</td>\n",
       "    </tr>\n",
       "  </tbody>\n",
       "</table>\n",
       "</div>"
      ],
      "text/plain": [
       "   beauty  eval  gender smoker  day    time  age\n",
       "0   16.99  1.01  Female     No  Sun  Dinner    2\n",
       "1   10.34  1.66    Male     No  Sun  Dinner    3\n",
       "2   21.01  3.50    Male     No  Sun  Dinner    3\n",
       "3   23.68  3.31    Male     No  Sun  Dinner    2\n",
       "4   24.59  3.61  Female     No  Sun  Dinner    4"
      ]
     },
     "execution_count": 4,
     "metadata": {},
     "output_type": "execute_result"
    }
   ],
   "source": [
    "# 1.\n",
    "import seaborn as sns\n",
    "import pandas as pd\n",
    "import statsmodels.api as sm\n",
    "import statsmodels.formula.api as smf\n",
    "from statsmodels.formula.api import ols\n",
    "# Load seaborn dataset\n",
    "df = sns.load_dataset(\"tips\")\n",
    "df = df.rename(columns={\n",
    "    \"sex\": \"gender\",\n",
    "    \"total_bill\": \"beauty\",     \n",
    "    \"tip\": \"eval\",              \n",
    "    \"size\": \"age\"               \n",
    "})\n",
    "\n",
    "df.head()"
   ]
  },
  {
   "cell_type": "code",
   "execution_count": 5,
   "id": "d9b70880-200e-480a-816e-a59bcc6706e4",
   "metadata": {},
   "outputs": [
    {
     "name": "stdout",
     "output_type": "stream",
     "text": [
      "                            OLS Regression Results                            \n",
      "==============================================================================\n",
      "Dep. Variable:                   eval   R-squared:                       0.008\n",
      "Model:                            OLS   Adj. R-squared:                  0.004\n",
      "Method:                 Least Squares   F-statistic:                     1.926\n",
      "Date:                Mon, 27 Oct 2025   Prob (F-statistic):              0.166\n",
      "Time:                        22:56:49   Log-Likelihood:                -423.98\n",
      "No. Observations:                 244   AIC:                             852.0\n",
      "Df Residuals:                     242   BIC:                             859.0\n",
      "Df Model:                           1                                         \n",
      "Covariance Type:            nonrobust                                         \n",
      "===============================================================================\n",
      "                  coef    std err          t      P>|t|      [0.025      0.975]\n",
      "-------------------------------------------------------------------------------\n",
      "Intercept       3.0896      0.110     28.032      0.000       2.873       3.307\n",
      "gender[T.1]    -0.2562      0.185     -1.388      0.166      -0.620       0.107\n",
      "==============================================================================\n",
      "Omnibus:                       75.995   Durbin-Watson:                   1.950\n",
      "Prob(Omnibus):                  0.000   Jarque-Bera (JB):              194.975\n",
      "Skew:                           1.415   Prob(JB):                     4.59e-43\n",
      "Kurtosis:                       6.342   Cond. No.                         2.42\n",
      "==============================================================================\n",
      "\n",
      "Notes:\n",
      "[1] Standard Errors assume that the covariance matrix of the errors is correctly specified.\n"
     ]
    }
   ],
   "source": [
    "# Encode gender (male=0, female=1)\n",
    "df[\"gender\"] = df[\"gender\"].map({\"Male\": 0, \"Female\": 1})\n",
    "\n",
    "# Regression model: eval ~ gender\n",
    "model = smf.ols(\"eval ~ gender\", data=df).fit()\n",
    "print(model.summary())"
   ]
  },
  {
   "cell_type": "code",
   "execution_count": 8,
   "id": "02d2df4a-1b11-455f-adc5-4087f67e1a5d",
   "metadata": {},
   "outputs": [
    {
     "name": "stdout",
     "output_type": "stream",
     "text": [
      "                    sum_sq     df          F        PR(>F)\n",
      "C(age_group)   5923.939294    2.0  55.416408  1.799984e-20\n",
      "Residual      12667.490306  237.0        NaN           NaN\n"
     ]
    }
   ],
   "source": [
    "# 2.\n",
    "# Create age groups\n",
    "df[\"age_group\"] = pd.cut(df[\"age\"], bins=[1, 2, 4, 6], labels=[\"Young\", \"Middle\", \"Old\"])\n",
    "\n",
    "# ANOVA model\n",
    "anova_model = ols(\"beauty ~ C(age_group)\", data=df).fit()\n",
    "anova_table = sm.stats.anova_lm(anova_model, typ=2)\n",
    "print(anova_table)"
   ]
  },
  {
   "cell_type": "code",
   "execution_count": 12,
   "id": "6a13ba54-8019-40b7-8785-944c9cdd25d9",
   "metadata": {},
   "outputs": [
    {
     "name": "stdout",
     "output_type": "stream",
     "text": [
      "                            OLS Regression Results                            \n",
      "==============================================================================\n",
      "Dep. Variable:                   eval   R-squared:                       0.962\n",
      "Model:                            OLS   Adj. R-squared:                  0.957\n",
      "Method:                 Least Squares   F-statistic:                     200.7\n",
      "Date:                Tue, 28 Oct 2025   Prob (F-statistic):           6.00e-07\n",
      "Time:                        15:15:58   Log-Likelihood:                 13.357\n",
      "No. Observations:                  10   AIC:                            -22.71\n",
      "Df Residuals:                       8   BIC:                            -22.11\n",
      "Df Model:                           1                                         \n",
      "Covariance Type:            nonrobust                                         \n",
      "==============================================================================\n",
      "                 coef    std err          t      P>|t|      [0.025      0.975]\n",
      "------------------------------------------------------------------------------\n",
      "Intercept      2.4789      0.132     18.794      0.000       2.175       2.783\n",
      "beauty         0.2932      0.021     14.165      0.000       0.245       0.341\n",
      "==============================================================================\n",
      "Omnibus:                        2.273   Durbin-Watson:                   2.644\n",
      "Prob(Omnibus):                  0.321   Jarque-Bera (JB):                0.648\n",
      "Skew:                           0.618   Prob(JB):                        0.723\n",
      "Kurtosis:                       3.166   Cond. No.                         38.3\n",
      "==============================================================================\n",
      "\n",
      "Notes:\n",
      "[1] Standard Errors assume that the covariance matrix of the errors is correctly specified.\n",
      "\n",
      "Correlation between evaluation and beauty score: 0.981\n",
      "\n",
      "Conclusion:\n",
      "Beauty score significantly affects teaching evaluation (p = 0.0000)\n",
      "For every 1 unit increase in beauty score, evaluation increases by 0.293 points.\n"
     ]
    },
    {
     "name": "stderr",
     "output_type": "stream",
     "text": [
      "C:\\Users\\hp\\anaconda3\\Lib\\site-packages\\scipy\\stats\\_stats_py.py:1736: UserWarning: kurtosistest only valid for n>=20 ... continuing anyway, n=10\n",
      "  warnings.warn(\"kurtosistest only valid for n>=20 ... continuing \"\n"
     ]
    }
   ],
   "source": [
    "import pandas as pd\n",
    "import statsmodels.api as sm\n",
    "import statsmodels.formula.api as smf\n",
    "data = pd.DataFrame({\n",
    "    'eval': [4.8, 4.6, 4.3, 4.5, 3.8, 4.0, 4.7, 4.2, 3.9, 4.4],\n",
    "    'beauty': [8.0, 7.5, 6.0, 6.8, 4.5, 5.2, 7.1, 6.2, 4.9, 6.6]\n",
    "})\n",
    "\n",
    "model = smf.ols('eval ~ beauty', data=data).fit()\n",
    "print(model.summary())\n",
    "\n",
    "corr = data['eval'].corr(data['beauty'])\n",
    "print(f\"\\nCorrelation between evaluation and beauty score: {corr:.3f}\")\n",
    "\n",
    "print(\"\\nConclusion:\")\n",
    "if model.pvalues['beauty'] < 0.05:\n",
    "    print(f\"Beauty score significantly affects teaching evaluation (p = {model.pvalues['beauty']:.4f})\")\n",
    "    print(f\"For every 1 unit increase in beauty score, evaluation increases by {model.params['beauty']:.3f} points.\")\n",
    "else:\n",
    "    print(f\"No significant relationship (p = {model.pvalues['beauty']:.4f})\")"
   ]
  },
  {
   "cell_type": "code",
   "execution_count": null,
   "id": "9f42729a-3052-48b4-9020-36ce5b74bab1",
   "metadata": {},
   "outputs": [],
   "source": []
  }
 ],
 "metadata": {
  "kernelspec": {
   "display_name": "Python [conda env:anaconda3]",
   "language": "python",
   "name": "conda-env-anaconda3-py"
  },
  "language_info": {
   "codemirror_mode": {
    "name": "ipython",
    "version": 3
   },
   "file_extension": ".py",
   "mimetype": "text/x-python",
   "name": "python",
   "nbconvert_exporter": "python",
   "pygments_lexer": "ipython3",
   "version": "3.11.4"
  }
 },
 "nbformat": 4,
 "nbformat_minor": 5
}
