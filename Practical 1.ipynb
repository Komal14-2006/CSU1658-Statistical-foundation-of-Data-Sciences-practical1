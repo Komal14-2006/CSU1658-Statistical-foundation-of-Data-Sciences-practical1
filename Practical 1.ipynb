{
 "cells": [
  {
   "cell_type": "code",
   "execution_count": 9,
   "id": "914f0420-2800-4092-852d-8cd78de3d6ac",
   "metadata": {},
   "outputs": [
    {
     "name": "stdout",
     "output_type": "stream",
     "text": [
      "Dataset:\n",
      "    Age   Income\n",
      "0   58  20000.0\n",
      "1   48      NaN\n",
      "2   34  30000.0\n",
      "3   27  45000.0\n",
      "4   40      NaN\n",
      "5   58  60000.0\n",
      "6   38  35000.0\n",
      "7   42  50000.0\n",
      "8   30      NaN\n",
      "9   30  70000.0\n"
     ]
    }
   ],
   "source": [
    "#Problem 1:\n",
    "import numpy as np\n",
    "import pandas as pd\n",
    "\n",
    "np.random.seed(42)\n",
    "\n",
    "data = {\n",
    "    \"Age\": np.random.randint(20, 60, 10),          \n",
    "    \"Income\": [20000, np.nan, 30000, 45000, np.nan,60000, 35000, 50000, np.nan, 70000] \n",
    "}\n",
    "\n",
    "df = pd.DataFrame(data)\n",
    "print(\"Dataset:\\n\", df)\n",
    "\n"
   ]
  },
  {
   "cell_type": "code",
   "execution_count": 10,
   "id": "df725a75-9dc3-4999-b159-4d3680ce45d3",
   "metadata": {},
   "outputs": [
    {
     "name": "stdout",
     "output_type": "stream",
     "text": [
      "\n",
      "Mean Income: 44285.71428571428\n"
     ]
    }
   ],
   "source": [
    "# (a) Mean of Income (ignore NaN)\n",
    "mean_income = df[\"Income\"].mean()\n",
    "print(\"\\nMean Income:\", mean_income)\n"
   ]
  },
  {
   "cell_type": "code",
   "execution_count": 11,
   "id": "b28b8776-5666-4d8c-b264-bd0a8c3d76cc",
   "metadata": {},
   "outputs": [
    {
     "name": "stdout",
     "output_type": "stream",
     "text": [
      "Median Income: 45000.0\n"
     ]
    }
   ],
   "source": [
    "# (b) Median of Income (ignore NaN)\n",
    "median_income = df[\"Income\"].median()\n",
    "print(\"Median Income:\", median_income)\n"
   ]
  },
  {
   "cell_type": "code",
   "execution_count": 12,
   "id": "4552dfc9-fe86-4d62-97d7-dbb9899d0342",
   "metadata": {},
   "outputs": [
    {
     "name": "stdout",
     "output_type": "stream",
     "text": [
      "Age-Weighted Mean Income: 43222.99651567944\n"
     ]
    }
   ],
   "source": [
    "# (c) Age-Weighted Mean of Income\n",
    "# Formula: sum(income * age) / sum(age), ignoring NaN\n",
    "valid_data = df.dropna(subset=[\"Income\"])\n",
    "weighted_mean_income = np.average(valid_data[\"Income\"], weights=valid_data[\"Age\"])\n",
    "print(\"Age-Weighted Mean Income:\", weighted_mean_income)"
   ]
  },
  {
   "cell_type": "code",
   "execution_count": null,
   "id": "11ff5f8a-d466-4e52-87c8-d3451c933c6b",
   "metadata": {},
   "outputs": [],
   "source": []
  },
  {
   "cell_type": "code",
   "execution_count": 16,
   "id": "066e1d7f-8948-4944-a972-ffbf67bd21d8",
   "metadata": {},
   "outputs": [
    {
     "name": "stdout",
     "output_type": "stream",
     "text": [
      "Original Dataset:\n",
      "      Age   Income\n",
      "0   58.0  64131.0\n",
      "1   48.0  80263.0\n",
      "2   34.0      NaN\n",
      "3   62.0  61090.0\n",
      "4   27.0  87221.0\n",
      "5    NaN  84820.0\n",
      "6   58.0  20769.0\n",
      "7   38.0  79735.0\n",
      "8   42.0  82955.0\n",
      "9   30.0      NaN\n",
      "10  30.0  87969.0\n",
      "11  43.0  25311.0 \n",
      "\n",
      "Dataset with Z-scores and Outlier flag:\n",
      "      Age   Income  Income_z  Outlier\n",
      "0   58.0  64131.0 -0.131229    False\n",
      "1   48.0  80263.0  0.511179    False\n",
      "2   34.0      NaN       NaN    False\n",
      "3   62.0  61090.0 -0.252328    False\n",
      "4   27.0  87221.0  0.788260    False\n",
      "5    NaN  84820.0  0.692647    False\n",
      "6   58.0  20769.0 -1.857989    False\n",
      "7   38.0  79735.0  0.490153    False\n",
      "8   42.0  82955.0  0.618379    False\n",
      "9   30.0      NaN       NaN    False\n",
      "10  30.0  87969.0  0.818047    False\n",
      "11  43.0  25311.0 -1.677118    False \n",
      "\n",
      "Number of outliers (|z| > 3): 0\n"
     ]
    }
   ],
   "source": [
    "#Problem 2:\n",
    "import numpy as np\n",
    "import pandas as pd\n",
    "\n",
    "np.random.seed(42)\n",
    "n = 12\n",
    "ages = np.random.randint(20, 70, n)\n",
    "incomes = np.random.randint(20000, 120000, n).astype(float)\n",
    "\n",
    "df = pd.DataFrame({\n",
    "    \"Age\": ages,\n",
    "    \"Income\": incomes\n",
    "})\n",
    "\n",
    "# Insert some NaN values\n",
    "df.loc[2, \"Income\"] = np.nan\n",
    "df.loc[5, \"Age\"] = np.nan\n",
    "df.loc[9, \"Income\"] = np.nan\n",
    "\n",
    "print(\"Original Dataset:\\n\", df, \"\\n\")\n",
    "\n",
    "\n",
    "mean_income = df[\"Income\"].mean()\n",
    "std_income = df[\"Income\"].std()\n",
    "\n",
    "\n",
    "df[\"Income_z\"] = (df[\"Income\"] - mean_income) / std_income\n",
    "\n",
    "\n",
    "df[\"Outlier\"] = df[\"Income_z\"].abs() > 3\n",
    "num_outliers = df[\"Outlier\"].sum()\n",
    "\n",
    "print(\"Dataset with Z-scores and Outlier flag:\\n\", df, \"\\n\")\n",
    "print(\"Number of outliers (|z| > 3):\", num_outliers)\n"
   ]
  },
  {
   "cell_type": "code",
   "execution_count": null,
   "id": "7a186c90-bb64-4edc-96f6-f2a85d898766",
   "metadata": {},
   "outputs": [],
   "source": []
  },
  {
   "cell_type": "code",
   "execution_count": 17,
   "id": "96aadfdf-bad0-4c57-8d7c-ef154b0aaa33",
   "metadata": {},
   "outputs": [
    {
     "name": "stdout",
     "output_type": "stream",
     "text": [
      "Synthetic Dataset:\n",
      "    Age    Income\n",
      "0    58   90263.0\n",
      "1    48   46023.0\n",
      "2    34       NaN\n",
      "3    27   97221.0\n",
      "4    40   94820.0\n",
      "5    58       NaN\n",
      "6    38   89735.0\n",
      "7    42   92955.0\n",
      "8    30   94925.0\n",
      "9    30   97969.0\n",
      "10   43   35311.0\n",
      "11   55  113104.0\n"
     ]
    }
   ],
   "source": [
    "#Problem 3:\n",
    "import numpy as np\n",
    "import pandas as pd\n",
    "\n",
    "np.random.seed(42)\n",
    "\n",
    "data = {\n",
    "    \"Age\": np.random.randint(20, 60, size=12),       \n",
    "    \"Income\": np.random.randint(30000, 120000, size=12).astype(float) \n",
    "}\n",
    "\n",
    "df = pd.DataFrame(data)\n",
    "\n",
    "# introduce some NaNs\n",
    "df.loc[2, \"Income\"] = np.nan\n",
    "df.loc[5, \"Income\"] = np.nan\n",
    "\n",
    "print(\"Synthetic Dataset:\")\n",
    "print(df)"
   ]
  },
  {
   "cell_type": "code",
   "execution_count": 18,
   "id": "49d5a1b7-6a54-477b-99d8-5a93b54c0146",
   "metadata": {},
   "outputs": [
    {
     "name": "stdout",
     "output_type": "stream",
     "text": [
      "\n",
      "Dataset with Age Bins:\n",
      "    Age    Income   AgeBin\n",
      "0    58   90263.0  [45–60)\n",
      "1    48   46023.0  [45–60)\n",
      "2    34       NaN  [25–35)\n",
      "3    27   97221.0  [25–35)\n",
      "4    40   94820.0  [35–45)\n",
      "5    58       NaN  [45–60)\n",
      "6    38   89735.0  [35–45)\n",
      "7    42   92955.0  [35–45)\n",
      "8    30   94925.0  [25–35)\n",
      "9    30   97969.0  [25–35)\n",
      "10   43   35311.0  [35–45)\n",
      "11   55  113104.0  [45–60)\n"
     ]
    }
   ],
   "source": [
    "# define bins\n",
    "bins = [18, 25, 35, 45, 60]\n",
    "labels = [\"[18–25)\", \"[25–35)\", \"[35–45)\", \"[45–60)\"]\n",
    "\n",
    "# cut age into bins\n",
    "df[\"AgeBin\"] = pd.cut(df[\"Age\"], bins=bins, labels=labels, right=False)\n",
    "\n",
    "print(\"\\nDataset with Age Bins:\")\n",
    "print(df)"
   ]
  },
  {
   "cell_type": "code",
   "execution_count": 19,
   "id": "6acb6b8a-93fd-4ead-abd3-2cdd0de9b751",
   "metadata": {},
   "outputs": [
    {
     "name": "stdout",
     "output_type": "stream",
     "text": [
      "\n",
      "Result (Tidy DataFrame):\n",
      "    AgeBin  count      mean   median\n",
      "0  [18–25)      0       NaN      NaN\n",
      "1  [25–35)      3  96705.00  97221.0\n",
      "2  [35–45)      4  78205.25  91345.0\n",
      "3  [45–60)      3  83130.00  90263.0\n"
     ]
    }
   ],
   "source": [
    "# group and aggregate\n",
    "result = (\n",
    "    df.groupby(\"AgeBin\")[\"Income\"]\n",
    "      .agg(count=\"count\", mean=\"mean\", median=\"median\")\n",
    "      .reset_index()\n",
    "      .sort_values(\"AgeBin\")\n",
    ")\n",
    "\n",
    "print(\"\\nResult (Tidy DataFrame):\")\n",
    "print(result)\n"
   ]
  },
  {
   "cell_type": "code",
   "execution_count": null,
   "id": "9fc31d9f-1eda-41f6-ab1f-136564a05503",
   "metadata": {},
   "outputs": [],
   "source": []
  },
  {
   "cell_type": "code",
   "execution_count": 20,
   "id": "e8d29eee-4c9f-48c3-a74e-28b950183a5a",
   "metadata": {},
   "outputs": [
    {
     "name": "stdout",
     "output_type": "stream",
     "text": [
      "Array:\n",
      " [[1 2 3]\n",
      " [4 5 6]\n",
      " [7 8 9]]\n"
     ]
    }
   ],
   "source": [
    "#Problem 4:\n",
    "#Create Array\n",
    "import numpy as np\n",
    "\n",
    "# Create a 2D array (not 1D)\n",
    "arr = np.array([[1, 2, 3],\n",
    "                [4, 5, 6],\n",
    "                [7, 8, 9]])\n",
    "\n",
    "print(\"Array:\\n\", arr)\n"
   ]
  },
  {
   "cell_type": "code",
   "execution_count": 21,
   "id": "22b25eeb-be38-47c0-a8f1-c3cb5827be3f",
   "metadata": {},
   "outputs": [
    {
     "name": "stdout",
     "output_type": "stream",
     "text": [
      "Shape: (3, 3)\n",
      "Size: 9\n",
      "Transpose:\n",
      " [[1 4 7]\n",
      " [2 5 8]\n",
      " [3 6 9]]\n",
      "Flatten: [1 2 3 4 5 6 7 8 9]\n"
     ]
    }
   ],
   "source": [
    "#Shape and Resize\n",
    "# Shape → gives (rows, cols)\n",
    "print(\"Shape:\", arr.shape)\n",
    "\n",
    "# Size → total number of elements\n",
    "print(\"Size:\", arr.size)\n",
    "\n",
    "# Transpose → rows become columns\n",
    "print(\"Transpose:\\n\", arr.T)\n",
    "\n",
    "# Flatten → convert to 1D\n",
    "print(\"Flatten:\", arr.flatten())"
   ]
  },
  {
   "cell_type": "code",
   "execution_count": 33,
   "id": "f69e1c1a-0035-4dc6-8311-86cfd3ccc0f9",
   "metadata": {},
   "outputs": [
    {
     "name": "stdout",
     "output_type": "stream",
     "text": [
      "Last row using -1 indexing: [7 8 9]\n",
      "Error in slicing: index 10 is out of bounds for axis 1 with size 3\n"
     ]
    }
   ],
   "source": [
    "#Negative Indexing & Error in Slicing\n",
    "# Negative indexing → last row\n",
    "print(\"Last row using -1 indexing:\", arr[-1])\n",
    "\n",
    "# Error Example: slicing out of bounds\n",
    "try:\n",
    "    print(arr[:, 10])   # column 10 does not exist\n",
    "except Exception as e:\n",
    "    print(\"Error in slicing:\", e)\n",
    "    "
   ]
  },
  {
   "cell_type": "code",
   "execution_count": 34,
   "id": "43714654-7860-4fc4-a500-36befa90768f",
   "metadata": {},
   "outputs": [
    {
     "name": "stdout",
     "output_type": "stream",
     "text": [
      "Broadcasting (+10):\n",
      " [[11 12 13]\n",
      " [14 15 16]\n",
      " [17 18 19]]\n",
      "Dot Product:\n",
      " [[ 4  2  4]\n",
      " [10  5 10]\n",
      " [16  8 16]]\n"
     ]
    }
   ],
   "source": [
    "#Arithmetic Operations\n",
    "# Broadcasting: add 10 to every element\n",
    "print(\"Broadcasting (+10):\\n\", arr + 10)\n",
    "\n",
    "# Dot Product (Matrix multiplication)\n",
    "b = np.array([[1, 0, 1],\n",
    "              [0, 1, 0],\n",
    "              [1, 0, 1]])\n",
    "print(\"Dot Product:\\n\", arr.dot(b))\n"
   ]
  },
  {
   "cell_type": "code",
   "execution_count": 32,
   "id": "0e06a16f-3595-4bc0-beb2-6cad4701a5e7",
   "metadata": {},
   "outputs": [
    {
     "name": "stdout",
     "output_type": "stream",
     "text": [
      "Determinant: 1.0000000000000002\n",
      "Inverse:\n",
      " [[ 3. -1.]\n",
      " [-5.  2.]]\n"
     ]
    }
   ],
   "source": [
    "#Linear Algebra (Determinant & Inverse)\n",
    "# New invertible matrix\n",
    "mat = np.array([[2, 1],\n",
    "                [5, 3]])\n",
    "\n",
    "# Determinant\n",
    "det = np.linalg.det(mat)\n",
    "print(\"Determinant:\", det)\n",
    "\n",
    "# Inverse\n",
    "inv = np.linalg.inv(mat)\n",
    "print(\"Inverse:\\n\", inv)\n"
   ]
  },
  {
   "cell_type": "code",
   "execution_count": null,
   "id": "ec653ac5-e153-4304-8b95-b66ef5846ac5",
   "metadata": {},
   "outputs": [],
   "source": []
  }
 ],
 "metadata": {
  "kernelspec": {
   "display_name": "Python [conda env:anaconda3]",
   "language": "python",
   "name": "conda-env-anaconda3-py"
  },
  "language_info": {
   "codemirror_mode": {
    "name": "ipython",
    "version": 3
   },
   "file_extension": ".py",
   "mimetype": "text/x-python",
   "name": "python",
   "nbconvert_exporter": "python",
   "pygments_lexer": "ipython3",
   "version": "3.11.4"
  }
 },
 "nbformat": 4,
 "nbformat_minor": 5
}
